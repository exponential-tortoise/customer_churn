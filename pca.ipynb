{
 "cells": [
  {
   "cell_type": "code",
   "execution_count": 27,
   "metadata": {},
   "outputs": [],
   "source": [
    "import pandas as pd \n",
    "\n"
   ]
  },
  {
   "cell_type": "code",
   "execution_count": 28,
   "metadata": {},
   "outputs": [
    {
     "output_type": "execute_result",
     "data": {
      "text/plain": "   Churn  AccountWeeks  ContractRenewal  DataPlan  DataUsage  CustServCalls  \\\n0      0           128                1         1        2.7              1   \n1      0           107                1         1        3.7              1   \n2      0           137                1         0        0.0              0   \n3      0            84                0         0        0.0              2   \n4      0            75                0         0        0.0              3   \n\n   DayMins  DayCalls  MonthlyCharge  OverageFee  RoamMins  \n0    265.1       110           89.0        9.87      10.0  \n1    161.6       123           82.0        9.78      13.7  \n2    243.4       114           52.0        6.06      12.2  \n3    299.4        71           57.0        3.10       6.6  \n4    166.7       113           41.0        7.42      10.1  ",
      "text/html": "<div>\n<style scoped>\n    .dataframe tbody tr th:only-of-type {\n        vertical-align: middle;\n    }\n\n    .dataframe tbody tr th {\n        vertical-align: top;\n    }\n\n    .dataframe thead th {\n        text-align: right;\n    }\n</style>\n<table border=\"1\" class=\"dataframe\">\n  <thead>\n    <tr style=\"text-align: right;\">\n      <th></th>\n      <th>Churn</th>\n      <th>AccountWeeks</th>\n      <th>ContractRenewal</th>\n      <th>DataPlan</th>\n      <th>DataUsage</th>\n      <th>CustServCalls</th>\n      <th>DayMins</th>\n      <th>DayCalls</th>\n      <th>MonthlyCharge</th>\n      <th>OverageFee</th>\n      <th>RoamMins</th>\n    </tr>\n  </thead>\n  <tbody>\n    <tr>\n      <th>0</th>\n      <td>0</td>\n      <td>128</td>\n      <td>1</td>\n      <td>1</td>\n      <td>2.7</td>\n      <td>1</td>\n      <td>265.1</td>\n      <td>110</td>\n      <td>89.0</td>\n      <td>9.87</td>\n      <td>10.0</td>\n    </tr>\n    <tr>\n      <th>1</th>\n      <td>0</td>\n      <td>107</td>\n      <td>1</td>\n      <td>1</td>\n      <td>3.7</td>\n      <td>1</td>\n      <td>161.6</td>\n      <td>123</td>\n      <td>82.0</td>\n      <td>9.78</td>\n      <td>13.7</td>\n    </tr>\n    <tr>\n      <th>2</th>\n      <td>0</td>\n      <td>137</td>\n      <td>1</td>\n      <td>0</td>\n      <td>0.0</td>\n      <td>0</td>\n      <td>243.4</td>\n      <td>114</td>\n      <td>52.0</td>\n      <td>6.06</td>\n      <td>12.2</td>\n    </tr>\n    <tr>\n      <th>3</th>\n      <td>0</td>\n      <td>84</td>\n      <td>0</td>\n      <td>0</td>\n      <td>0.0</td>\n      <td>2</td>\n      <td>299.4</td>\n      <td>71</td>\n      <td>57.0</td>\n      <td>3.10</td>\n      <td>6.6</td>\n    </tr>\n    <tr>\n      <th>4</th>\n      <td>0</td>\n      <td>75</td>\n      <td>0</td>\n      <td>0</td>\n      <td>0.0</td>\n      <td>3</td>\n      <td>166.7</td>\n      <td>113</td>\n      <td>41.0</td>\n      <td>7.42</td>\n      <td>10.1</td>\n    </tr>\n  </tbody>\n</table>\n</div>"
     },
     "metadata": {},
     "execution_count": 28
    }
   ],
   "source": [
    "df=pd.read_csv('telecom_churn.csv')\n",
    "\n",
    "df.head()"
   ]
  },
  {
   "cell_type": "code",
   "execution_count": 29,
   "metadata": {},
   "outputs": [],
   "source": [
    "X=df.loc[:,'AccountWeeks':].values\n",
    "y=df.loc[:,'Churn'].values\n",
    "\n",
    "\n",
    "from sklearn.preprocessing import StandardScaler\n",
    "\n",
    "X=StandardScaler().fit_transform(X)\n",
    "\n"
   ]
  },
  {
   "cell_type": "code",
   "execution_count": 30,
   "metadata": {},
   "outputs": [
    {
     "output_type": "execute_result",
     "data": {
      "text/plain": "   principal component 1  principal component 2\n0               3.138211               0.760811\n1               3.087086              -1.141227\n2              -0.711939               0.656365\n3              -0.574675               1.818482\n4              -1.330330               0.159803",
      "text/html": "<div>\n<style scoped>\n    .dataframe tbody tr th:only-of-type {\n        vertical-align: middle;\n    }\n\n    .dataframe tbody tr th {\n        vertical-align: top;\n    }\n\n    .dataframe thead th {\n        text-align: right;\n    }\n</style>\n<table border=\"1\" class=\"dataframe\">\n  <thead>\n    <tr style=\"text-align: right;\">\n      <th></th>\n      <th>principal component 1</th>\n      <th>principal component 2</th>\n    </tr>\n  </thead>\n  <tbody>\n    <tr>\n      <th>0</th>\n      <td>3.138211</td>\n      <td>0.760811</td>\n    </tr>\n    <tr>\n      <th>1</th>\n      <td>3.087086</td>\n      <td>-1.141227</td>\n    </tr>\n    <tr>\n      <th>2</th>\n      <td>-0.711939</td>\n      <td>0.656365</td>\n    </tr>\n    <tr>\n      <th>3</th>\n      <td>-0.574675</td>\n      <td>1.818482</td>\n    </tr>\n    <tr>\n      <th>4</th>\n      <td>-1.330330</td>\n      <td>0.159803</td>\n    </tr>\n  </tbody>\n</table>\n</div>"
     },
     "metadata": {},
     "execution_count": 30
    }
   ],
   "source": [
    "from sklearn.decomposition import PCA\n",
    "pca = PCA(n_components=2)\n",
    "principalComponents = pca.fit_transform(X)\n",
    "principalDf = pd.DataFrame(data = principalComponents, columns = ['principal component 1', 'principal component 2'])\n",
    "\n",
    "principalDf.head()"
   ]
  },
  {
   "cell_type": "code",
   "execution_count": 15,
   "metadata": {},
   "outputs": [
    {
     "output_type": "execute_result",
     "data": {
      "text/plain": "   principal component 1  principal component 2  Churn\n0               3.138211               0.760811      0\n1               3.087086              -1.141227      0\n2              -0.711939               0.656365      0\n3              -0.574675               1.818482      0\n4              -1.330330               0.159803      0",
      "text/html": "<div>\n<style scoped>\n    .dataframe tbody tr th:only-of-type {\n        vertical-align: middle;\n    }\n\n    .dataframe tbody tr th {\n        vertical-align: top;\n    }\n\n    .dataframe thead th {\n        text-align: right;\n    }\n</style>\n<table border=\"1\" class=\"dataframe\">\n  <thead>\n    <tr style=\"text-align: right;\">\n      <th></th>\n      <th>principal component 1</th>\n      <th>principal component 2</th>\n      <th>Churn</th>\n    </tr>\n  </thead>\n  <tbody>\n    <tr>\n      <th>0</th>\n      <td>3.138211</td>\n      <td>0.760811</td>\n      <td>0</td>\n    </tr>\n    <tr>\n      <th>1</th>\n      <td>3.087086</td>\n      <td>-1.141227</td>\n      <td>0</td>\n    </tr>\n    <tr>\n      <th>2</th>\n      <td>-0.711939</td>\n      <td>0.656365</td>\n      <td>0</td>\n    </tr>\n    <tr>\n      <th>3</th>\n      <td>-0.574675</td>\n      <td>1.818482</td>\n      <td>0</td>\n    </tr>\n    <tr>\n      <th>4</th>\n      <td>-1.330330</td>\n      <td>0.159803</td>\n      <td>0</td>\n    </tr>\n  </tbody>\n</table>\n</div>"
     },
     "metadata": {},
     "execution_count": 15
    }
   ],
   "source": []
  },
  {
   "cell_type": "code",
   "execution_count": 31,
   "metadata": {},
   "outputs": [],
   "source": [
    "\n",
    "from sklearn.model_selection import train_test_split \n",
    "\n",
    "X_train, X_test, y_train, y_test = train_test_split(\n",
    "    principalDf, y, test_size=0.33, random_state=42)\n"
   ]
  },
  {
   "cell_type": "code",
   "execution_count": 32,
   "metadata": {},
   "outputs": [],
   "source": [
    "from sklearn.neural_network import MLPClassifier\n",
    "\n",
    "clf = MLPClassifier()\n",
    "\n",
    "clf.fit(X_train, y_train)\n",
    "\n",
    "y_pred=clf.predict(X_test)\n"
   ]
  },
  {
   "cell_type": "code",
   "execution_count": 33,
   "metadata": {
    "tags": []
   },
   "outputs": [
    {
     "output_type": "stream",
     "name": "stdout",
     "text": "\nMLP classification report after applying PCA \n\n              precision    recall  f1-score   support\n\n        Stay       0.90      0.99      0.94       940\n       Churn       0.87      0.37      0.52       160\n\n    accuracy                           0.90      1100\n   macro avg       0.88      0.68      0.73      1100\nweighted avg       0.90      0.90      0.88      1100\n\n"
    }
   ],
   "source": [
    "from sklearn.metrics    import classification_report\n",
    "from sklearn.metrics    import confusion_matrix\n",
    "\n",
    "print(\"\\nMLP classification report after applying PCA \\n\")\n",
    "print(classification_report(y_test, y_pred, target_names = [\"Stay\", \"Churn\"]))"
   ]
  },
  {
   "cell_type": "code",
   "execution_count": null,
   "metadata": {},
   "outputs": [],
   "source": []
  }
 ],
 "metadata": {
  "language_info": {
   "codemirror_mode": {
    "name": "ipython",
    "version": 3
   },
   "file_extension": ".py",
   "mimetype": "text/x-python",
   "name": "python",
   "nbconvert_exporter": "python",
   "pygments_lexer": "ipython3",
   "version": 3
  },
  "orig_nbformat": 2,
  "kernelspec": {
   "name": "python_defaultSpec_1593267662463",
   "display_name": "Python 3.7.6 64-bit ('base': conda)"
  }
 },
 "nbformat": 4,
 "nbformat_minor": 2
}